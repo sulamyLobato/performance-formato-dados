{
 "cells": [
  {
   "cell_type": "code",
   "execution_count": 19,
   "metadata": {},
   "outputs": [],
   "source": [
    "import pandas as pd\n",
    "import json\n",
    "import time"
   ]
  },
  {
   "cell_type": "code",
   "execution_count": 20,
   "metadata": {},
   "outputs": [],
   "source": [
    "json_file = \"../dados/dataset.json\""
   ]
  },
  {
   "cell_type": "code",
   "execution_count": 21,
   "metadata": {},
   "outputs": [
    {
     "name": "stdout",
     "output_type": "stream",
     "text": [
      "[{'categoria': 'grãos', 'países': 'Brasil', 'quantidade Vendas': '50.000', 'produto': 'arroz'}, {'categoria': 'frutas', 'países': 'Bolivia', 'quantidade Vendas': '20.000', 'produto': 'uva'}, {'categoria': 'oleaginosas', 'países': 'Canadá', 'quantidade Vendas': '30.000', 'produto': 'feijão'}, {'categoria': 'animais', 'países': 'Dinamarca', 'quantidade Vendas': '90.000', 'produto': 'vaca'}, {'categoria': 'bebida', 'países': 'Estados Unidos', 'quantidade Vendas': '40.000', 'produto': 'leite'}]\n"
     ]
    }
   ],
   "source": [
    "# Abrindo e lendo JSON linha por linha\n",
    "with open(json_file, 'r', encoding='utf-8') as f:\n",
    "    for line in f:\n",
    "        row = json.loads(line)  # Converte a linha JSON em um dicionário Python\n",
    "        print(row)"
   ]
  },
  {
   "cell_type": "code",
   "execution_count": 22,
   "metadata": {},
   "outputs": [
    {
     "name": "stdout",
     "output_type": "stream",
     "text": [
      "Tempo de execução: 0.0000 segundos\n"
     ]
    }
   ],
   "source": [
    "# Registro do tempo (início)\n",
    "start_time = time.time()\n",
    "# Calcula o tempo total de execução\n",
    "end_time = time.time()\n",
    "# Calcula e imprime o tempo gasto\n",
    "execution_time = end_time - start_time\n",
    "print(f\"Tempo de execução: {execution_time:.4f} segundos\")"
   ]
  }
 ],
 "metadata": {
  "kernelspec": {
   "display_name": "Python 3",
   "language": "python",
   "name": "python3"
  },
  "language_info": {
   "codemirror_mode": {
    "name": "ipython",
    "version": 3
   },
   "file_extension": ".py",
   "mimetype": "text/x-python",
   "name": "python",
   "nbconvert_exporter": "python",
   "pygments_lexer": "ipython3",
   "version": "3.13.0"
  }
 },
 "nbformat": 4,
 "nbformat_minor": 2
}
