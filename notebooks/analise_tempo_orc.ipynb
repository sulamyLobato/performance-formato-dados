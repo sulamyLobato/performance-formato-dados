{
 "cells": [
  {
   "cell_type": "code",
   "execution_count": 1,
   "metadata": {},
   "outputs": [],
   "source": [
    "import pyarrow.orc as orc\n",
    "import pandas as pd\n",
    "import pytz\n",
    "from datetime import datetime\n",
    "import pyarrow.orc as orc\n",
    "import pyorc \n",
    "import time"
   ]
  },
  {
   "cell_type": "code",
   "execution_count": 2,
   "metadata": {},
   "outputs": [],
   "source": [
    "orc_file = \"../dados/vendas_produtos.orc\""
   ]
  },
  {
   "cell_type": "code",
   "execution_count": 3,
   "metadata": {},
   "outputs": [
    {
     "name": "stdout",
     "output_type": "stream",
     "text": [
      "('grãos', 'Brasil', '50.000', 'arroz')\n",
      "('frutas', 'Bolivia', '20.000', 'uva')\n",
      "('oleaginosas', 'Canadá', '30.000', 'feijão')\n",
      "('animais', 'Dinamarca', '90.000', 'vaca')\n",
      "('bebida', 'Estados Unidos', '40.000', 'leite')\n"
     ]
    }
   ],
   "source": [
    "# Abrindo o arquivo ORC \n",
    "with open(orc_file, 'rb') as f:\n",
    "    reader = pyorc.Reader(f)\n",
    "    for row in reader:\n",
    "        print(row)"
   ]
  },
  {
   "cell_type": "code",
   "execution_count": 4,
   "metadata": {},
   "outputs": [],
   "source": [
    "# Registra do tempo (início)\n",
    "start_time = time.time()"
   ]
  },
  {
   "cell_type": "code",
   "execution_count": 5,
   "metadata": {},
   "outputs": [],
   "source": [
    "# Calcula o tempo total de execução\n",
    "end_time = time.time()"
   ]
  },
  {
   "cell_type": "code",
   "execution_count": 7,
   "metadata": {},
   "outputs": [
    {
     "name": "stdout",
     "output_type": "stream",
     "text": [
      "Tempo de execução: 3.4193 segundos\n"
     ]
    }
   ],
   "source": [
    "# Calcula e imprime o tempo gasto\n",
    "execution_time = end_time - start_time\n",
    "print(f\"Tempo de execução: {execution_time:.4f} segundos\")"
   ]
  }
 ],
 "metadata": {
  "kernelspec": {
   "display_name": "Python 3",
   "language": "python",
   "name": "python3"
  },
  "language_info": {
   "codemirror_mode": {
    "name": "ipython",
    "version": 3
   },
   "file_extension": ".py",
   "mimetype": "text/x-python",
   "name": "python",
   "nbconvert_exporter": "python",
   "pygments_lexer": "ipython3",
   "version": "3.13.0"
  }
 },
 "nbformat": 4,
 "nbformat_minor": 2
}
